{
  "cells": [
    {
      "cell_type": "markdown",
      "metadata": {
        "id": "view-in-github",
        "colab_type": "text"
      },
      "source": [
        "<a href=\"https://colab.research.google.com/github/charlesdominictan/CPE-201-CPE2-B/blob/main/SKILL_TEST_CODE.ipynb\" target=\"_parent\"><img src=\"https://colab.research.google.com/assets/colab-badge.svg\" alt=\"Open In Colab\"/></a>"
      ]
    },
    {
      "cell_type": "code",
      "source": [
        "arr = ['C', 'h', 'a', 'r', 'l', 'e', 's', ' ',\n",
        "       'D', 'o', 'm', 'i', 'n', 'i', 'c', ' ',\n",
        "       'S', '.', ' ',\n",
        "       'T', 'a', 'n']\n",
        "\n",
        "def traverse(arr):\n",
        "    for i in range(len(arr)):\n",
        "        if arr[i] == \" \":\n",
        "            print(\"_\")\n",
        "        else:\n",
        "            print(arr[i])\n",
        "\n",
        "    name = \"\".join(arr)\n",
        "\n",
        "    print(\"\\nFull name with underscores:\", name.replace(\" \", \"_\"))\n",
        "\n",
        "    reversed_name = name.split(\" \")\n",
        "    reversed_name = reversed_name[::-1]\n",
        "\n",
        "    reversed_name_with_underscores = \"_\".join(reversed_name).replace(\" \", \"_\")\n",
        "\n",
        "    print(\"Reversed name with underscores:\", reversed_name_with_underscores)\n",
        "\n",
        "traverse(arr)"
      ],
      "metadata": {
        "id": "gy6x_kiEF53E",
        "outputId": "724bcbd7-6919-4956-afd9-46f947443eea",
        "colab": {
          "base_uri": "https://localhost:8080/"
        }
      },
      "execution_count": 13,
      "outputs": [
        {
          "output_type": "stream",
          "name": "stdout",
          "text": [
            "C\n",
            "h\n",
            "a\n",
            "r\n",
            "l\n",
            "e\n",
            "s\n",
            "_\n",
            "D\n",
            "o\n",
            "m\n",
            "i\n",
            "n\n",
            "i\n",
            "c\n",
            "_\n",
            "S\n",
            ".\n",
            "_\n",
            "T\n",
            "a\n",
            "n\n",
            "\n",
            "Full name with underscores: Charles_Dominic_S._Tan\n",
            "Reversed name with underscores: Tan_S._Dominic_Charles\n"
          ]
        }
      ]
    }
  ],
  "metadata": {
    "colab": {
      "name": "Welcome To Colab",
      "toc_visible": true,
      "provenance": [],
      "include_colab_link": true
    },
    "kernelspec": {
      "display_name": "Python 3",
      "name": "python3"
    }
  },
  "nbformat": 4,
  "nbformat_minor": 0
}