{
  "nbformat": 4,
  "nbformat_minor": 0,
  "metadata": {
    "colab": {
      "provenance": [],
      "authorship_tag": "ABX9TyMJ9q1c+lXkfrd41B6UBw2k",
      "include_colab_link": true
    },
    "kernelspec": {
      "name": "python3",
      "display_name": "Python 3"
    },
    "language_info": {
      "name": "python"
    }
  },
  "cells": [
    {
      "cell_type": "markdown",
      "metadata": {
        "id": "view-in-github",
        "colab_type": "text"
      },
      "source": [
        "<a href=\"https://colab.research.google.com/github/charlesdominictan/CPE-201-CPE2-B/blob/main/Activity_1_Area_OF_Circle.ipynb\" target=\"_parent\"><img src=\"https://colab.research.google.com/assets/colab-badge.svg\" alt=\"Open In Colab\"/></a>"
      ]
    },
    {
      "cell_type": "markdown",
      "source": [
        "Area Of Circle"
      ],
      "metadata": {
        "id": "BneXghIsXrt2"
      }
    },
    {
      "cell_type": "markdown",
      "source": [
        "Solution #1"
      ],
      "metadata": {
        "id": "0Cpn4ztNcFHg"
      }
    },
    {
      "cell_type": "code",
      "source": [
        "r = 5\n",
        "pi = 3.14\n",
        "area = pi * r * r\n",
        "print(area)"
      ],
      "metadata": {
        "colab": {
          "base_uri": "https://localhost:8080/"
        },
        "id": "VNLIRJCfZKsO",
        "outputId": "8867a9f9-45da-4188-ee40-eee36db2ced1"
      },
      "execution_count": null,
      "outputs": [
        {
          "output_type": "stream",
          "name": "stdout",
          "text": [
            "78.5\n"
          ]
        }
      ]
    },
    {
      "cell_type": "markdown",
      "source": [
        "Solution #2"
      ],
      "metadata": {
        "id": "ncT29IWqblB-"
      }
    },
    {
      "cell_type": "code",
      "source": [
        "diameter = 10\n",
        "r = diameter/2\n",
        "pi = 3.14\n",
        "area = pi * r * r\n",
        "print(area)"
      ],
      "metadata": {
        "colab": {
          "base_uri": "https://localhost:8080/"
        },
        "id": "F_s-MeG-bqgm",
        "outputId": "a2d049fc-3fe3-413f-a991-aac007954b3a"
      },
      "execution_count": null,
      "outputs": [
        {
          "output_type": "stream",
          "name": "stdout",
          "text": [
            "78.5\n"
          ]
        }
      ]
    }
  ]
}