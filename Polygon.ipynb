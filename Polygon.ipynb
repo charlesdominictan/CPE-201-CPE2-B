{
  "cells": [
    {
      "cell_type": "markdown",
      "metadata": {
        "id": "view-in-github",
        "colab_type": "text"
      },
      "source": [
        "<a href=\"https://colab.research.google.com/github/charlesdominictan/CPE-201-CPE2-B/blob/main/Polygon.ipynb\" target=\"_parent\"><img src=\"https://colab.research.google.com/assets/colab-badge.svg\" alt=\"Open In Colab\"/></a>"
      ]
    },
    {
      "cell_type": "markdown",
      "source": [
        "# New Section"
      ],
      "metadata": {
        "id": "uaDt9LxnO3Mb"
      }
    },
    {
      "cell_type": "code",
      "source": [
        "class Polygons:\n",
        "    def __init__(self, name: str, sides: int, area: float):\n",
        "        self._name = name\n",
        "        self._sides = sides\n",
        "        self._area = area\n",
        "\n",
        "    def set_name(self, name: str):\n",
        "        self._name = name\n",
        "\n",
        "    def set_sides(self, sides: int):\n",
        "        self._sides = sides\n",
        "\n",
        "    def set_area(self, area: float):\n",
        "        self._area = area\n",
        "\n",
        "    def get_name(self) -> str:\n",
        "        return self._name\n",
        "\n",
        "    def get_sides(self) -> int:\n",
        "        return self._sides\n",
        "\n",
        "    def get_area(self) -> float:\n",
        "        return self._area\n",
        "\n",
        "\n",
        "polygon = Polygons(\"Triangle\", 3, 15.5)\n",
        "\n",
        "print(\"Name:\", polygon.get_name())\n",
        "print(\"Sides:\", polygon.get_sides())\n",
        "print(\"Area:\", polygon.get_area())\n",
        "\n",
        "polygon.set_name(\"Square\")\n",
        "polygon.set_sides(4)\n",
        "polygon.set_area(25.0)\n",
        "\n",
        "print(\"Updated Name:\", polygon.get_name())\n",
        "print(\"Updated Sides:\", polygon.get_sides())\n",
        "print(\"Updated Area:\", polygon.get_area())"
      ],
      "metadata": {
        "colab": {
          "base_uri": "https://localhost:8080/"
        },
        "id": "4Q7Ai2BrO4PL",
        "outputId": "cf66b49e-b84c-44e8-de54-43cac42c735e"
      },
      "execution_count": 9,
      "outputs": [
        {
          "output_type": "stream",
          "name": "stdout",
          "text": [
            "Name: Triangle\n",
            "Sides: 3\n",
            "Area: 15.5\n",
            "Updated Name: Square\n",
            "Updated Sides: 4\n",
            "Updated Area: 25.0\n"
          ]
        }
      ]
    }
  ],
  "metadata": {
    "colab": {
      "name": "Welcome To Colab",
      "provenance": [],
      "include_colab_link": true
    },
    "kernelspec": {
      "display_name": "Python 3",
      "name": "python3"
    }
  },
  "nbformat": 4,
  "nbformat_minor": 0
}