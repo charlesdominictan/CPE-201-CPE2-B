{
  "cells": [
    {
      "cell_type": "markdown",
      "metadata": {
        "id": "view-in-github",
        "colab_type": "text"
      },
      "source": [
        "<a href=\"https://colab.research.google.com/github/charlesdominictan/CPE-201-CPE2-B/blob/main/LAB_5_CODE.ipynb\" target=\"_parent\"><img src=\"https://colab.research.google.com/assets/colab-badge.svg\" alt=\"Open In Colab\"/></a>"
      ]
    },
    {
      "cell_type": "code",
      "source": [],
      "metadata": {
        "id": "JqS1cIrBsnFg"
      },
      "execution_count": null,
      "outputs": []
    },
    {
      "cell_type": "markdown",
      "metadata": {
        "id": "fad29098"
      },
      "source": [
        "### Create an array, display items, access by index and compute sum"
      ]
    },
    {
      "cell_type": "code",
      "metadata": {
        "colab": {
          "base_uri": "https://localhost:8080/"
        },
        "id": "3fec2ff8",
        "outputId": "2217c9f3-72af-44ca-ae27-1510d123e275"
      },
      "source": [
        "from array import array\n",
        "\n",
        "numbers = array('i', range(1, 11))\n",
        "print(\"Array items:\")\n",
        "for number in numbers:\n",
        "    print(number)\n",
        "\n",
        "print(\"\\nAccessing elements by index:\")\n",
        "array_sum = 0\n",
        "for i, num in enumerate(numbers):\n",
        "    print(f\"Element at index {i}: {num}\")\n",
        "    array_sum += num\n",
        "\n",
        "print(f\"\\nSum of array elements: {array_sum}\")\n"
      ],
      "execution_count": 7,
      "outputs": [
        {
          "output_type": "stream",
          "name": "stdout",
          "text": [
            "Array items:\n",
            "1\n",
            "2\n",
            "3\n",
            "4\n",
            "5\n",
            "6\n",
            "7\n",
            "8\n",
            "9\n",
            "10\n",
            "\n",
            "Accessing elements by index:\n",
            "Element at index 0: 1\n",
            "Element at index 1: 2\n",
            "Element at index 2: 3\n",
            "Element at index 3: 4\n",
            "Element at index 4: 5\n",
            "Element at index 5: 6\n",
            "Element at index 6: 7\n",
            "Element at index 7: 8\n",
            "Element at index 8: 9\n",
            "Element at index 9: 10\n",
            "\n",
            "Sum of array elements: 55\n"
          ]
        }
      ]
    },
    {
      "cell_type": "markdown",
      "metadata": {
        "id": "65bd03da"
      },
      "source": [
        "### Append a new item to the end of the array"
      ]
    },
    {
      "cell_type": "code",
      "metadata": {
        "colab": {
          "base_uri": "https://localhost:8080/"
        },
        "id": "5b42f8db",
        "outputId": "cc1ed237-d0c2-406e-8851-d45a9eb6f69a"
      },
      "source": [
        "from array import array\n",
        "\n",
        "numbers = array('i', [1, 2, 3, 4, 5, 6, 7, 8, 9, 10])\n",
        "new_item = 11\n",
        "\n",
        "print(\"Original array:\", numbers)\n",
        "numbers.append(new_item)\n",
        "print(\"Array after appending:\", numbers)"
      ],
      "execution_count": 13,
      "outputs": [
        {
          "output_type": "stream",
          "name": "stdout",
          "text": [
            "Original array: array('i', [1, 2, 3, 4, 5, 6, 7, 8, 9, 10])\n",
            "Array after appending: array('i', [1, 2, 3, 4, 5, 6, 7, 8, 9, 10, 11])\n"
          ]
        }
      ]
    },
    {
      "cell_type": "markdown",
      "metadata": {
        "id": "74d589a1"
      },
      "source": [
        "### Insert a new item before the second element in an existing array"
      ]
    },
    {
      "cell_type": "code",
      "metadata": {
        "colab": {
          "base_uri": "https://localhost:8080/"
        },
        "id": "7dc06479",
        "outputId": "495bf1b1-3363-442b-ce9b-093d7a1a8de5"
      },
      "source": [
        "from array import array\n",
        "5\n",
        "numbers = array('i', [1, 2, 3, 4, 5, 6, 7, 8, 9, 10])\n",
        "insert_item = 0\n",
        "insert_index = 1\n",
        "print(\"Original array:\", numbers)\n",
        "numbers.insert(insert_index, insert_item)\n",
        "print(\"Array after inserting:\", numbers)"
      ],
      "execution_count": 23,
      "outputs": [
        {
          "output_type": "stream",
          "name": "stdout",
          "text": [
            "Original array: array('i', [1, 2, 3, 4, 5, 6, 7, 8, 9, 10])\n",
            "Array after inserting: array('i', [1, 0, 2, 3, 4, 5, 6, 7, 8, 9, 10])\n"
          ]
        }
      ]
    },
    {
      "cell_type": "markdown",
      "metadata": {
        "id": "3e9a2f6f"
      },
      "source": [
        "### Reverse the order of the items in the array"
      ]
    },
    {
      "cell_type": "code",
      "metadata": {
        "colab": {
          "base_uri": "https://localhost:8080/"
        },
        "id": "4e9d6878",
        "outputId": "a28aa642-e6c0-4130-9922-46dea22e7b0c"
      },
      "source": [
        "from array import array\n",
        "numbers = ([5, 4, 3, 2, 1])\n",
        "\n",
        "print(\"Original array:\", numbers)\n",
        "numbers.reverse()\n",
        "print(\"Array after reversing:\", numbers)"
      ],
      "execution_count": 21,
      "outputs": [
        {
          "output_type": "stream",
          "name": "stdout",
          "text": [
            "Original array: [5, 4, 3, 2, 1]\n",
            "Array after reversing: [1, 2, 3, 4, 5]\n"
          ]
        }
      ]
    },
    {
      "cell_type": "markdown",
      "metadata": {
        "id": "1b6fbd22"
      },
      "source": [
        "### Get the length of the array"
      ]
    },
    {
      "cell_type": "code",
      "metadata": {
        "colab": {
          "base_uri": "https://localhost:8080/"
        },
        "id": "77d117e6",
        "outputId": "ed04cc94-9be6-46bc-bd89-9c53416e85f5"
      },
      "source": [
        "from array import array\n",
        "numbers = ([5, 4, 3, 2, 1])\n",
        "\n",
        "print(\"Array:\", numbers)\n",
        "array_length = len(numbers)\n",
        "print(\"Length of the array:\", array_length)"
      ],
      "execution_count": 22,
      "outputs": [
        {
          "output_type": "stream",
          "name": "stdout",
          "text": [
            "Array: [5, 4, 3, 2, 1]\n",
            "Length of the array: 5\n"
          ]
        }
      ]
    }
  ],
  "metadata": {
    "colab": {
      "name": "Welcome To Colab",
      "toc_visible": true,
      "provenance": [],
      "include_colab_link": true
    },
    "kernelspec": {
      "display_name": "Python 3",
      "name": "python3"
    }
  },
  "nbformat": 4,
  "nbformat_minor": 0
}