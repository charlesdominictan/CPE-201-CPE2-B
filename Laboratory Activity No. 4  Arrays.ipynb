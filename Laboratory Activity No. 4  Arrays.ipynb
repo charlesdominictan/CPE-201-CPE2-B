{
  "cells": [
    {
      "cell_type": "markdown",
      "metadata": {
        "id": "view-in-github",
        "colab_type": "text"
      },
      "source": [
        "<a href=\"https://colab.research.google.com/github/charlesdominictan/CPE-201-CPE2-B/blob/main/Laboratory%20Activity%20No.%204%20%20Arrays.ipynb\" target=\"_parent\"><img src=\"https://colab.research.google.com/assets/colab-badge.svg\" alt=\"Open In Colab\"/></a>"
      ]
    },
    {
      "cell_type": "markdown",
      "source": [
        "PROBLEM 1"
      ],
      "metadata": {
        "id": "AzNEGS1qj2UD"
      }
    },
    {
      "cell_type": "code",
      "source": [
        "class GroceryItem:\n",
        "    def __init__(self, name, price, quantity):\n",
        "        self.name = name\n",
        "        self.price = price\n",
        "        self.quantity = quantity\n",
        "\n",
        "    def __del__(self):\n",
        "        print(f\"{self.name} has been deleted.\")\n",
        "\n",
        "    def __copy__(self):\n",
        "        return GroceryItem(self.name, self.price, self.quantity)\n",
        "\n",
        "    def __str__(self):\n",
        "        return f\"{self.name} - PHP {self.price} x{self.quantity} = PHP {self.calculate_sum()}\"\n",
        "\n",
        "    def calculate_sum(self):\n",
        "        return self.price * self.quantity\n",
        "\n",
        "\n",
        "class Fruit(GroceryItem):\n",
        "    pass\n",
        "\n",
        "\n",
        "class Vegetable(GroceryItem):\n",
        "    pass\n"
      ],
      "metadata": {
        "id": "-G3zpqAJko2X"
      },
      "execution_count": 6,
      "outputs": []
    },
    {
      "cell_type": "markdown",
      "source": [
        "PROBLEM 2"
      ],
      "metadata": {
        "id": "eAN0BOLXlV-C"
      }
    },
    {
      "cell_type": "code",
      "source": [
        "class GroceryItem:\n",
        "    def __init__(self, name, price, quantity):\n",
        "        self.name = name\n",
        "        self.price = price\n",
        "        self.quantity = quantity\n",
        "\n",
        "    def __del__(self):\n",
        "        print(f\"{self.name} has been deleted.\")\n",
        "\n",
        "    def __copy__(self):\n",
        "        return GroceryItem(self.name, self.price, self.quantity)\n",
        "\n",
        "    def __str__(self):\n",
        "        return f\"{self.name} - PHP {self.price} x{self.quantity} = PHP {self.calculate_sum()}\"\n",
        "\n",
        "    def calculate_sum(self):\n",
        "        return self.price * self.quantity\n",
        "\n",
        "\n",
        "class Fruit(GroceryItem):\n",
        "    pass\n",
        "\n",
        "\n",
        "class Vegetable(GroceryItem):\n",
        "    pass\n",
        "\n",
        "\n",
        "grocery_list = [\n",
        "    Fruit(\"Apple\", 10, 7),\n",
        "    Fruit(\"Banana\", 10, 8),\n",
        "    Vegetable(\"Broccoli\", 60, 12),\n",
        "    Vegetable(\"Lettuce\", 50, 10)\n",
        "]\n",
        "\n",
        "print(\"Displaying all details\")\n",
        "print(\"Jenna's Grocery List:\")\n",
        "for item in grocery_list:\n",
        "    print(item)"
      ],
      "metadata": {
        "id": "eXEqe43llWSq",
        "outputId": "555964cd-1589-447d-adb1-7f1272b6d915",
        "colab": {
          "base_uri": "https://localhost:8080/"
        }
      },
      "execution_count": 3,
      "outputs": [
        {
          "output_type": "stream",
          "name": "stdout",
          "text": [
            "Displaying all details\n",
            "Jenna's Grocery List:\n",
            "Apple - PHP 10 x7 = PHP 70\n",
            "Banana - PHP 10 x8 = PHP 80\n",
            "Broccoli - PHP 60 x12 = PHP 720\n",
            "Lettuce - PHP 50 x10 = PHP 500\n"
          ]
        }
      ]
    },
    {
      "cell_type": "markdown",
      "source": [
        "PROBLEM 3"
      ],
      "metadata": {
        "id": "1eWfvXu1lPbS"
      }
    },
    {
      "cell_type": "code",
      "source": [
        "def total_sum(items):\n",
        "    return sum(item.calculate_sum() for item in items)\n",
        "\n",
        "print(\"\\nTotal Sum: PHP\", total_sum(grocery_list))"
      ],
      "metadata": {
        "id": "hmH7U8dylOVQ",
        "outputId": "9bf6c280-c35e-40e5-c138-0721ecde4020",
        "colab": {
          "base_uri": "https://localhost:8080/"
        }
      },
      "execution_count": 4,
      "outputs": [
        {
          "output_type": "stream",
          "name": "stdout",
          "text": [
            "\n",
            "Total Sum: PHP 1370\n"
          ]
        }
      ]
    },
    {
      "cell_type": "markdown",
      "source": [
        "PROBLEM 4"
      ],
      "metadata": {
        "id": "C430dUb5lS7v"
      }
    },
    {
      "cell_type": "code",
      "source": [
        "grocery_list = [item for item in grocery_list if item.name != \"Lettuce\"]\n",
        "\n",
        "print(\"\\nAfter deleting Lettuce:\")\n",
        "for item in grocery_list:\n",
        "    print(item)\n",
        "\n",
        "print(\"Total Sum: PHP\", total_sum(grocery_list))"
      ],
      "metadata": {
        "id": "VjDsJ7FglVIS",
        "outputId": "eb7014d2-92f2-4d12-ad69-7cb27ab24d4f",
        "colab": {
          "base_uri": "https://localhost:8080/"
        }
      },
      "execution_count": 5,
      "outputs": [
        {
          "output_type": "stream",
          "name": "stdout",
          "text": [
            "\n",
            "After deleting Lettuce:\n",
            "Lettuce has been deleted.\n",
            "Apple - PHP 10 x7 = PHP 70\n",
            "Banana - PHP 10 x8 = PHP 80\n",
            "Broccoli - PHP 60 x12 = PHP 720\n",
            "Total Sum: PHP 870\n"
          ]
        }
      ]
    }
  ],
  "metadata": {
    "colab": {
      "name": "Welcome To Colab",
      "toc_visible": true,
      "provenance": [],
      "include_colab_link": true
    },
    "kernelspec": {
      "display_name": "Python 3",
      "name": "python3"
    }
  },
  "nbformat": 4,
  "nbformat_minor": 0
}