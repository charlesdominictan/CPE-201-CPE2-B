{
  "cells": [
    {
      "cell_type": "markdown",
      "metadata": {
        "id": "view-in-github",
        "colab_type": "text"
      },
      "source": [
        "<a href=\"https://colab.research.google.com/github/charlesdominictan/CPE-201-CPE2-B/blob/main/SKILL_TEST_MIDTERM.ipynb\" target=\"_parent\"><img src=\"https://colab.research.google.com/assets/colab-badge.svg\" alt=\"Open In Colab\"/></a>"
      ]
    },
    {
      "cell_type": "markdown",
      "source": [
        "# New Section"
      ],
      "metadata": {
        "id": "kgXUkmyveHjm"
      }
    },
    {
      "cell_type": "code",
      "source": [
        "arr = [20, 21, 22, 23, 24, 25, 26, 27, 28, 29,\n",
        "       30, 31, 32, 33, 34, 35, 36, 37, 38, 39,\n",
        "       40, 41, 42, 43, 44, 45, 46, 47, 48, 49, 50]\n",
        "\n",
        "def traverse(arr):\n",
        "    # a) Display the elements using indexing\n",
        "    print(\"Array Elements:\")\n",
        "    for i in range(len(arr)):\n",
        "        print(\"arr[\", i, \"] =\", arr[i])\n",
        "    print()\n",
        "\n",
        "    # b) Count the number of elements\n",
        "    count_elements = len(arr)\n",
        "    print(\"Number of Elements:\", count_elements)\n",
        "\n",
        "    # c) Count the numbers of odd and even integers\n",
        "    even_count = 0\n",
        "    odd_count = 0\n",
        "    for i in range(len(arr)):\n",
        "        if arr[i] % 2 == 0:\n",
        "            even_count += 1\n",
        "        else:\n",
        "            odd_count += 1\n",
        "\n",
        "    print(\"Number of Even Integers:\", even_count)\n",
        "    print(\"Number of Odd Integers:\", odd_count)\n",
        "\n",
        "\n",
        "traverse(arr)"
      ],
      "metadata": {
        "colab": {
          "base_uri": "https://localhost:8080/"
        },
        "id": "pSthz2XpeIG2",
        "outputId": "db27f0a2-4779-410a-d3f2-54e976f6df0e"
      },
      "execution_count": 8,
      "outputs": [
        {
          "output_type": "stream",
          "name": "stdout",
          "text": [
            "Array Elements:\n",
            "arr[ 0 ] = 20\n",
            "arr[ 1 ] = 21\n",
            "arr[ 2 ] = 22\n",
            "arr[ 3 ] = 23\n",
            "arr[ 4 ] = 24\n",
            "arr[ 5 ] = 25\n",
            "arr[ 6 ] = 26\n",
            "arr[ 7 ] = 27\n",
            "arr[ 8 ] = 28\n",
            "arr[ 9 ] = 29\n",
            "arr[ 10 ] = 30\n",
            "arr[ 11 ] = 31\n",
            "arr[ 12 ] = 32\n",
            "arr[ 13 ] = 33\n",
            "arr[ 14 ] = 34\n",
            "arr[ 15 ] = 35\n",
            "arr[ 16 ] = 36\n",
            "arr[ 17 ] = 37\n",
            "arr[ 18 ] = 38\n",
            "arr[ 19 ] = 39\n",
            "arr[ 20 ] = 40\n",
            "arr[ 21 ] = 41\n",
            "arr[ 22 ] = 42\n",
            "arr[ 23 ] = 43\n",
            "arr[ 24 ] = 44\n",
            "arr[ 25 ] = 45\n",
            "arr[ 26 ] = 46\n",
            "arr[ 27 ] = 47\n",
            "arr[ 28 ] = 48\n",
            "arr[ 29 ] = 49\n",
            "arr[ 30 ] = 50\n",
            "\n",
            "Number of Elements: 31\n",
            "Number of Even Integers: 16\n",
            "Number of Odd Integers: 15\n"
          ]
        }
      ]
    }
  ],
  "metadata": {
    "colab": {
      "name": "Welcome To Colab",
      "toc_visible": true,
      "provenance": [],
      "include_colab_link": true
    },
    "kernelspec": {
      "display_name": "Python 3",
      "name": "python3"
    }
  },
  "nbformat": 4,
  "nbformat_minor": 0
}