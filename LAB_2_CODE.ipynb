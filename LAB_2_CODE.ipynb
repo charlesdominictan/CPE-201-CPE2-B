{
  "cells": [
    {
      "cell_type": "markdown",
      "metadata": {
        "id": "view-in-github",
        "colab_type": "text"
      },
      "source": [
        "<a href=\"https://colab.research.google.com/github/charlesdominictan/CPE-201-CPE2-B/blob/main/Data%20Structure%20and%20Algorithm%20Laboratory%20Activity%20No.%202.ipynb\" target=\"_parent\"><img src=\"https://colab.research.google.com/assets/colab-badge.svg\" alt=\"Open In Colab\"/></a>"
      ]
    },
    {
      "cell_type": "markdown",
      "source": [
        "Data Structure and Algorithm\n",
        "Laboratory Activity No. 2"
      ],
      "metadata": {
        "id": "Qz2U3rZvqBgZ"
      }
    },
    {
      "cell_type": "code",
      "source": [
        "def get_extremes(numbers):\n",
        "    smallest = min(numbers)\n",
        "    largest = max(numbers)\n",
        "    return smallest, largest\n",
        "\n",
        "values = [25, 7, 42, 13, 2]\n",
        "\n",
        "minimum, maximum = get_extremes(values)\n",
        "\n",
        "print(\"Min:\", minimum)\n",
        "print(\"Max:\", maximum)"
      ],
      "metadata": {
        "id": "DNKF-QT5qDKv",
        "outputId": "d5d8cc09-8358-4a68-8405-b86033bc6b3e",
        "colab": {
          "base_uri": "https://localhost:8080/"
        }
      },
      "execution_count": 1,
      "outputs": [
        {
          "output_type": "stream",
          "name": "stdout",
          "text": [
            "Min: 2\n",
            "Max: 42\n"
          ]
        }
      ]
    }
  ],
  "metadata": {
    "colab": {
      "name": "Welcome To Colab",
      "toc_visible": true,
      "provenance": [],
      "include_colab_link": true
    },
    "kernelspec": {
      "display_name": "Python 3",
      "name": "python3"
    }
  },
  "nbformat": 4,
  "nbformat_minor": 0
}
