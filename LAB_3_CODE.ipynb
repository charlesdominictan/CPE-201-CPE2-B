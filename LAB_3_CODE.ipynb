{
  "cells": [
    {
      "cell_type": "markdown",
      "metadata": {
        "id": "view-in-github",
        "colab_type": "text"
      },
      "source": [
        "<a href=\"https://colab.research.google.com/github/charlesdominictan/CPE-201-CPE2-B/blob/main/Data%20Structure%20and%20Algorithm%20Laboratory%20Activity%20No.%203%20%20Translating%20Algorithm%20to%20Program.ipynb\" target=\"_parent\"><img src=\"https://colab.research.google.com/assets/colab-badge.svg\" alt=\"Open In Colab\"/></a>"
      ]
    },
    {
      "cell_type": "markdown",
      "source": [
        "Data Structure and Algorithm\n",
        "Laboratory Activity No. 3\n",
        "\n",
        "Translating Algorithm to Program"
      ],
      "metadata": {
        "id": "fLvQcHipBbJE"
      }
    },
    {
      "cell_type": "markdown",
      "source": [],
      "metadata": {
        "id": "4Gu0-1IPBYL5"
      }
    },
    {
      "cell_type": "code",
      "source": [
        "grades = [26, 49, 98, 87, 62, 75]\n",
        "\n",
        "total_even = 0\n",
        "\n",
        "for grade in grades:\n",
        "    if grade % 2 == 0:\n",
        "        total_even = total_even + grade\n",
        "\n",
        "print(\"Even number total is:\", total_even)"
      ],
      "metadata": {
        "colab": {
          "base_uri": "https://localhost:8080/"
        },
        "id": "DNKF-QT5qDKv",
        "outputId": "6367c2a7-062a-49ce-daa2-0d0562d79def"
      },
      "execution_count": 5,
      "outputs": [
        {
          "output_type": "stream",
          "name": "stdout",
          "text": [
            "Even number total is: 186\n"
          ]
        }
      ]
    },
    {
      "cell_type": "code",
      "source": [],
      "metadata": {
        "id": "IjCvWm1bBcgp"
      },
      "execution_count": null,
      "outputs": []
    }
  ],
  "metadata": {
    "colab": {
      "name": "Welcome To Colab",
      "toc_visible": true,
      "provenance": [],
      "include_colab_link": true
    },
    "kernelspec": {
      "display_name": "Python 3",
      "name": "python3"
    }
  },
  "nbformat": 4,
  "nbformat_minor": 0
}
