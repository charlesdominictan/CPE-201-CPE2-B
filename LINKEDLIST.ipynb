{
  "cells": [
    {
      "cell_type": "markdown",
      "metadata": {
        "id": "view-in-github",
        "colab_type": "text"
      },
      "source": [
        "<a href=\"https://colab.research.google.com/github/charlesdominictan/CPE-201-CPE2-B/blob/main/LINKEDLIST.ipynb\" target=\"_parent\"><img src=\"https://colab.research.google.com/assets/colab-badge.svg\" alt=\"Open In Colab\"/></a>"
      ]
    },
    {
      "cell_type": "markdown",
      "source": [
        "LINKEDLIST BEFORE\n"
      ],
      "metadata": {
        "id": "iHvd3d4nfTtV"
      }
    },
    {
      "cell_type": "code",
      "source": [
        "# Node class\n",
        "class Node:\n",
        "\n",
        "    # Function to initialize the node object\n",
        "    def __init__(self, data):\n",
        "        self.data = data # Assign data\n",
        "        self.next = None # Initialize\n",
        "                        # next as null\n",
        "\n",
        "# Linked List class\n",
        "class LinkedList:\n",
        "\n",
        "    # Function to initialize the Linked\n",
        "    # List object\n",
        "    def __init__(self):\n",
        "        self.head = None\n",
        "    def print_data(self):\n",
        "      current =self.head\n",
        "      while current:\n",
        "        print(current.data)\n",
        "        current=current.next\n",
        "\n",
        "if __name__=='__main__':\n",
        "# Start with the empty list\n",
        "    llist = LinkedList()\n",
        "\n",
        "    llist.head = Node(\"A\")  #object name1\n",
        "    second = Node(\"B\")        #object name2\n",
        "    third = Node(\"C\")\n",
        "    fourth = Node(\"D\")\n",
        "\n",
        "    llist.head.next = second # Link first node with second\n",
        "    second.next = third # Link second node with the third node\n",
        "    third.next = fourth #Link third to fourth\n",
        "\n",
        "    llist.print_data()\n",
        ""
      ],
      "metadata": {
        "colab": {
          "base_uri": "https://localhost:8080/"
        },
        "id": "NCeFmKv4jRl4",
        "outputId": "8ebb9cbd-c8c5-4548-c86a-6c8d0a7fd880"
      },
      "execution_count": 5,
      "outputs": [
        {
          "output_type": "stream",
          "name": "stdout",
          "text": [
            "A\n",
            "B\n",
            "C\n",
            "D\n"
          ]
        }
      ]
    },
    {
      "cell_type": "markdown",
      "source": [
        "LINKEDLIST AFTER ADDING: INSERT AT THE END"
      ],
      "metadata": {
        "id": "DMMY7FwYjLaR"
      }
    },
    {
      "cell_type": "code",
      "source": [
        "# Node class\n",
        "class Node:\n",
        "\n",
        "    # Function to initialize the node object\n",
        "    def __init__(self, data):\n",
        "        self.data = data\n",
        "        self.next = None\n",
        "\n",
        "# Linked List class\n",
        "class LinkedList:\n",
        "\n",
        "    # Function to initialize the Linked\n",
        "    # List object\n",
        "    def __init__(self):\n",
        "        self.head = None\n",
        "\n",
        "    def print_data(self):\n",
        "        current = self.head\n",
        "        while current:\n",
        "            print(current.data)\n",
        "            current = current.next\n",
        "\n",
        "    def insert_at_end(self, data):\n",
        "        new_node = Node(data)\n",
        "        if not self.head:\n",
        "            self.head = new_node\n",
        "            return\n",
        "        current = self.head\n",
        "        while current.next:\n",
        "            current = current.next\n",
        "        current.next = new_node\n",
        "\n",
        "if __name__ == '__main__':\n",
        "    # Start with the empty list\n",
        "    llist = LinkedList()\n",
        "\n",
        "    llist.head = Node(\"A\")\n",
        "    second = Node(\"B\")\n",
        "    third = Node(\"C\")\n",
        "    fourth = Node(\"D\")\n",
        "\n",
        "    llist.head.next = second\n",
        "    second.next = third\n",
        "    third.next = fourth\n",
        "\n",
        "    llist.print_data()\n",
        "\n",
        "    llist.insert_at_end(\"E\")\n",
        "    print(\"After inserting at the end:\")\n",
        "    llist.print_data()\n"
      ],
      "metadata": {
        "colab": {
          "base_uri": "https://localhost:8080/"
        },
        "id": "wBY7of9VfZqn",
        "outputId": "972b9834-afd3-4935-fab3-4a0505c64999"
      },
      "execution_count": 8,
      "outputs": [
        {
          "output_type": "stream",
          "name": "stdout",
          "text": [
            "A\n",
            "B\n",
            "C\n",
            "D\n",
            "After inserting at the end:\n",
            "A\n",
            "B\n",
            "C\n",
            "D\n",
            "E\n"
          ]
        }
      ]
    }
  ],
  "metadata": {
    "colab": {
      "name": "Welcome To Colab",
      "toc_visible": true,
      "provenance": [],
      "include_colab_link": true
    },
    "kernelspec": {
      "display_name": "Python 3",
      "name": "python3"
    }
  },
  "nbformat": 4,
  "nbformat_minor": 0
}