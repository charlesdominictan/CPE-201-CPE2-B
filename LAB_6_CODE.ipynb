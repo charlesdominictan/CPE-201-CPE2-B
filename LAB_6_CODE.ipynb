{
  "cells": [
    {
      "cell_type": "markdown",
      "metadata": {
        "id": "view-in-github",
        "colab_type": "text"
      },
      "source": [
        "<a href=\"https://colab.research.google.com/github/charlesdominictan/CPE-201-CPE2-B/blob/main/LAB_6_CODE.ipynb\" target=\"_parent\"><img src=\"https://colab.research.google.com/assets/colab-badge.svg\" alt=\"Open In Colab\"/></a>"
      ]
    },
    {
      "cell_type": "code",
      "source": [
        "class Node:\n",
        "    def __init__(self, data_value):\n",
        "        self.data = data_value\n",
        "        self.next = None\n",
        "\n",
        "\n",
        "class LinkedList:\n",
        "    def __init__(self):\n",
        "        self.head = None\n",
        "\n",
        "\n",
        "    def append(self, data_value):\n",
        "        new_node = Node(data_value)\n",
        "        if not self.head:\n",
        "            self.head = new_node\n",
        "            return\n",
        "        current_node = self.head\n",
        "        while current_node.next:\n",
        "            current_node = current_node.next\n",
        "        current_node.next = new_node\n",
        "\n",
        "    def display(self):\n",
        "        current_node = self.head\n",
        "        while current_node:\n",
        "            print(current_node.data, end=\" -> \")\n",
        "            current_node = current_node.next\n",
        "        print(\"None\")\n",
        "\n",
        "    def get_head_data(self):\n",
        "        return self.head.data if self.head else None\n",
        "\n",
        "    def get_tail_data(self):\n",
        "        current_node = self.head\n",
        "        if not current_node:\n",
        "            return None\n",
        "        while current_node.next:\n",
        "            current_node = current_node.next\n",
        "        return current_node.data\n",
        "\n",
        "\n",
        "def is_prime_number(n):\n",
        "    if n < 2:\n",
        "        return False\n",
        "    for i in range(2, int(n**0.5) + 1):\n",
        "        if n % i == 0:\n",
        "            return False\n",
        "    return True\n",
        "\n",
        "\n",
        "\n",
        "if __name__ == \"__main__\":\n",
        "    # Create a linked list and populate it with prime numbers less than 20\n",
        "    prime_list = LinkedList()\n",
        "\n",
        "\n",
        "    for number_to_check in range(20):\n",
        "        if is_prime_number(number_to_check):\n",
        "            prime_list.append(number_to_check)\n",
        "\n",
        "\n",
        "    print(\"Linked List of Primes < 20:\")\n",
        "    prime_list.display()\n",
        "\n",
        "\n",
        "    print(\"Head of list:\", prime_list.get_head_data())\n",
        "    print(\"Tail of list:\", prime_list.get_tail_data())"
      ],
      "metadata": {
        "colab": {
          "base_uri": "https://localhost:8080/"
        },
        "id": "IUBOwlN8WWd7",
        "outputId": "17519a7b-3236-4aa6-9f6f-38983537f1dd"
      },
      "execution_count": 26,
      "outputs": [
        {
          "output_type": "stream",
          "name": "stdout",
          "text": [
            "Linked List of Primes < 20:\n",
            "2 -> 3 -> 5 -> 7 -> 11 -> 13 -> 17 -> 19 -> None\n",
            "Head of list: 2\n",
            "Tail of list: 19\n"
          ]
        }
      ]
    }
  ],
  "metadata": {
    "colab": {
      "name": "Welcome To Colab",
      "toc_visible": true,
      "provenance": [],
      "include_colab_link": true
    },
    "kernelspec": {
      "display_name": "Python 3",
      "name": "python3"
    }
  },
  "nbformat": 4,
  "nbformat_minor": 0
}